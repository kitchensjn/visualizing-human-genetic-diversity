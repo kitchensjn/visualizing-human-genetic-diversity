{
 "cells": [
  {
   "cell_type": "code",
   "execution_count": 29,
   "id": "80ec61e9",
   "metadata": {},
   "outputs": [
    {
     "name": "stderr",
     "output_type": "stream",
     "text": [
      "91796529it [22:34, 67766.68it/s]\n"
     ]
    }
   ],
   "source": [
    "import numpy as np\n",
    "import matplotlib.pyplot as plt\n",
    "import gzip\n",
    "from tqdm import tqdm\n",
    "\n",
    "\n",
    "threshold = 0.05\n",
    "\n",
    "global_mafs = []\n",
    "samples_above_threshold = []\n",
    "\n",
    "with gzip.open(\"assets/Dryad/new_1kg_nyc_hg38_filt_total.biallelic_snps.pops.freq.total.txt.gz\",'r') as f:\n",
    "    header = f.readline()\n",
    "    for line in tqdm(f):\n",
    "        freqs = np.array(line.split()[5:]).astype(np.float64)\n",
    "        global_mafs.append(freqs[0])\n",
    "        samples_above_threshold.append((freqs[1:] >= threshold).sum())"
   ]
  },
  {
   "cell_type": "code",
   "execution_count": 313,
   "id": "dda77a1b",
   "metadata": {},
   "outputs": [
    {
     "data": {
      "text/plain": [
       "(array([85329902.,  1516488.,   973573.,   761113.,   652086.,   579347.,\n",
       "          531598.,   501587.,   479188.,   471647.]),\n",
       " array([0.  , 0.05, 0.1 , 0.15, 0.2 , 0.25, 0.3 , 0.35, 0.4 , 0.45, 0.5 ]),\n",
       " <BarContainer object of 10 artists>)"
      ]
     },
     "execution_count": 313,
     "metadata": {},
     "output_type": "execute_result"
    },
    {
     "data": {
      "image/png": "[encoded data removed]",
      "text/plain": [
       "<Figure size 432x288 with 1 Axes>"
      ]
     },
     "metadata": {
      "needs_background": "light"
     },
     "output_type": "display_data"
    }
   ],
   "source": [
    "plt.yscale('log')\n",
    "plt.hist(global_mafs, align=\"left\")"
   ]
  },
  {
   "cell_type": "code",
   "execution_count": 314,
   "id": "e5a0413a",
   "metadata": {},
   "outputs": [
    {
     "data": {
      "text/plain": [
       "(array([78912789.,  1699746.,   869178.,   641781.,   552558.,   573888.,\n",
       "          590306.,  1345224.,   291042.,   178004.,   162290.,   149663.,\n",
       "          164385.,   157727.,   163090.,   156863.,   153661.,   156246.,\n",
       "          168942.,   231974.,   275241.,   341160.,   205586.,   198291.,\n",
       "          226548.,   367061.,  2863285.]),\n",
       " array([ 0.,  1.,  2.,  3.,  4.,  5.,  6.,  7.,  8.,  9., 10., 11., 12.,\n",
       "        13., 14., 15., 16., 17., 18., 19., 20., 21., 22., 23., 24., 25.,\n",
       "        26., 27.]),\n",
       " <BarContainer object of 27 artists>)"
      ]
     },
     "execution_count": 314,
     "metadata": {},
     "output_type": "execute_result"
    },
    {
     "data": {
      "image/png": "[encoded data removed]",
      "text/plain": [
       "<Figure size 432x288 with 1 Axes>"
      ]
     },
     "metadata": {
      "needs_background": "light"
     },
     "output_type": "display_data"
    }
   ],
   "source": [
    "plt.yscale('log')\n",
    "plt.hist(samples_above_threshold, bins=27, align=\"left\", range=(0,27))"
   ]
  },
  {
   "cell_type": "code",
   "execution_count": 67,
   "id": "02200f2b",
   "metadata": {},
   "outputs": [],
   "source": [
    "import pandas as pd"
   ]
  },
  {
   "cell_type": "code",
   "execution_count": 68,
   "id": "67431b40",
   "metadata": {},
   "outputs": [],
   "source": [
    "mafs_and_sample_counts = pd.DataFrame({\"mafs\": global_mafs, \"sample_counts\": samples_above_threshold})"
   ]
  },
  {
   "cell_type": "code",
   "execution_count": 297,
   "id": "8e41a5c0",
   "metadata": {},
   "outputs": [],
   "source": [
    "mafs_and_sample_counts[\"maf_bin\"] = pandas.cut(mafs_and_sample_counts[\"mafs\"], 20, labels=np.linspace(0.05,0.5,20))"
   ]
  },
  {
   "cell_type": "code",
   "execution_count": 298,
   "id": "e63d0d13",
   "metadata": {},
   "outputs": [],
   "source": [
    "bins_and_sample_counts = mafs_and_sample_counts.drop(\"mafs\", axis=1)"
   ]
  },
  {
   "cell_type": "code",
   "execution_count": 299,
   "id": "51ffc877",
   "metadata": {},
   "outputs": [],
   "source": [
    "grouped_counts = bins_and_sample_counts.groupby(\"maf_bin\", as_index=False).value_counts()"
   ]
  },
  {
   "cell_type": "code",
   "execution_count": 300,
   "id": "86a10d60",
   "metadata": {},
   "outputs": [],
   "source": [
    "def calc_bottom(row, df):\n",
    "    return grouped_counts.where(grouped_counts[\"maf_bin\"] == row[\"maf_bin\"]).where(grouped_counts[\"sample_counts\"] < row[\"sample_counts\"])[\"count\"].sum()\n",
    "\n",
    "grouped_counts[\"bottom\"] = grouped_counts.apply(lambda row: calc_bottom(row, df=grouped_counts), axis=1)"
   ]
  },
  {
   "cell_type": "code",
   "execution_count": 332,
   "id": "43fca140",
   "metadata": {},
   "outputs": [
    {
     "data": {
      "text/plain": [
       "<BarContainer object of 540 artists>"
      ]
     },
     "execution_count": 332,
     "metadata": {},
     "output_type": "execute_result"
    },
    {
     "data": {
      "image/png": "[encoded data removed]",
      "text/plain": [
       "<Figure size 432x288 with 1 Axes>"
      ]
     },
     "metadata": {
      "needs_background": "light"
     },
     "output_type": "display_data"
    }
   ],
   "source": [
    "colors = [\n",
    "    \"#7f0000\",\n",
    "    \"#006400\",\n",
    "    \"#808000\",\n",
    "    \"#483d8b\",\n",
    "    \"#3cb371\",\n",
    "    \"#bc8f8f\",\n",
    "    \"#008080\",\n",
    "    \"#4682b4\",\n",
    "    \"#00008b\",\n",
    "    \"#8b008b\",\n",
    "    \"#b03060\",\n",
    "    \"#ff4500\",\n",
    "    \"#ff8c00\",\n",
    "    \"#ffd700\",\n",
    "    \"#00ff00\",\n",
    "    \"#8a2be2\",\n",
    "    \"#00ff7f\",\n",
    "    \"#00ffff\",\n",
    "    \"#0000ff\",\n",
    "    \"#adff2f\",\n",
    "    \"#ff00ff\",\n",
    "    \"#1e90ff\",\n",
    "    \"#fa8072\",\n",
    "    \"#b0e0e6\",\n",
    "    \"#ff1493\",\n",
    "    \"#ee82ee\",\n",
    "    \"#ffdead\"\n",
    "]\n",
    "\n",
    "\n",
    "cmap = plt.colormaps[\"tab20c\"]\n",
    "#plt.ylim(1e5,2e8)\n",
    "plt.bar(grouped_counts[\"maf_bin\"], grouped_counts[\"count\"], bottom=grouped_counts[\"bottom\"], color=grouped_counts[\"sample_counts\"].apply(lambda x: colors[x]), width=0.020, linewidth=0)\n",
    "\n",
    "\n",
    "\n",
    "\n"
   ]
  },
  {
   "cell_type": "code",
   "execution_count": null,
   "id": "6c2af0ea",
   "metadata": {},
   "outputs": [],
   "source": [
    "import numpy as np\n",
    "import matplotlib.pyplot as plt\n",
    "import gzip\n",
    "from tqdm import tqdm\n",
    "\n",
    "\n",
    "global_mafs = []\n",
    "samples_above_010 = []\n",
    "samples_above_005 = []\n",
    "samples_above_001 = []\n",
    "\n",
    "with gzip.open(\"assets/Dryad/new_1kg_nyc_hg38_filt_total.biallelic_snps.pops.freq.total.txt.gz\",'r') as f:\n",
    "    header = f.readline()\n",
    "    for line in tqdm(f):\n",
    "        freqs = np.array(line.split()[5:]).astype(np.float64)\n",
    "        global_mafs.append(freqs[0])\n",
    "        samples_above_010.append((freqs[1:] >= 0.10).sum())\n",
    "        samples_above_005.append((freqs[1:] >= 0.05).sum())\n",
    "        samples_above_001.append((freqs[1:] >= 0.01).sum())"
   ]
  }
 ],
 "metadata": {
  "kernelspec": {
   "display_name": "Python 3 (ipykernel)",
   "language": "python",
   "name": "python3"
  },
  "language_info": {
   "codemirror_mode": {
    "name": "ipython",
    "version": 3
   },
   "file_extension": ".py",
   "mimetype": "text/x-python",
   "name": "python",
   "nbconvert_exporter": "python",
   "pygments_lexer": "ipython3",
   "version": "3.8.13"
  }
 },
 "nbformat": 4,
 "nbformat_minor": 5
}
